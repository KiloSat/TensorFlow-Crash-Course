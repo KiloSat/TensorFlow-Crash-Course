{
 "cells": [
  {
   "cell_type": "code",
   "execution_count": 1,
   "metadata": {
    "id": "PNC8rJIWmKTc"
   },
   "outputs": [],
   "source": [
    "import tensorflow as tf"
   ]
  },
  {
   "cell_type": "markdown",
   "metadata": {
    "id": "47-WGWF8koo_"
   },
   "source": [
    "Creating Tensors\n",
    "\n"
   ]
  },
  {
   "cell_type": "code",
   "execution_count": 2,
   "metadata": {
    "id": "VVj6O5SIkxRZ"
   },
   "outputs": [],
   "source": [
    "string = tf.Variable('WhyDoThis',tf.string)\n",
    "number = tf.Variable(9243, tf.int16)\n",
    "floating  = tf.Variable(4.655, tf.float64) "
   ]
  },
  {
   "cell_type": "markdown",
   "metadata": {
    "id": "IYtM1hooneUd"
   },
   "source": [
    "Rank of Tensors"
   ]
  },
  {
   "cell_type": "code",
   "execution_count": 3,
   "metadata": {
    "id": "dzEodipimPkh"
   },
   "outputs": [],
   "source": [
    "tensor_with_rank1 = tf.Variable([[12],[11]],tf.int32)\n",
    "tensor_with_rank2 = tf.Variable([[[[1,2,9],[1,5,32]],[[13,4,5],[1,3,2]]],[[[1,2,9],[1,5,32]],[[13,4,5],[1,3,2]]]],int)"
   ]
  },
  {
   "cell_type": "code",
   "execution_count": 4,
   "metadata": {
    "colab": {
     "base_uri": "https://localhost:8080/"
    },
    "id": "7R-XSWp6oDMH",
    "outputId": "c13ec88d-4445-4a85-be38-28d6d32828e3"
   },
   "outputs": [
    {
     "data": {
      "text/plain": [
       "<tf.Tensor: shape=(), dtype=int32, numpy=2>"
      ]
     },
     "execution_count": 4,
     "metadata": {},
     "output_type": "execute_result"
    }
   ],
   "source": [
    "tf.rank(tensor_with_rank1)"
   ]
  },
  {
   "cell_type": "code",
   "execution_count": 5,
   "metadata": {
    "colab": {
     "base_uri": "https://localhost:8080/"
    },
    "id": "68unQ1YMoapD",
    "outputId": "03a47117-90dd-4cdd-8101-5d9ea6c8e693"
   },
   "outputs": [
    {
     "data": {
      "text/plain": [
       "<tf.Tensor: shape=(), dtype=int32, numpy=4>"
      ]
     },
     "execution_count": 5,
     "metadata": {},
     "output_type": "execute_result"
    }
   ],
   "source": [
    "tf.rank(tensor_with_rank2)"
   ]
  },
  {
   "cell_type": "markdown",
   "metadata": {
    "id": "n1Dfqw5ap7NC"
   },
   "source": [
    "Shape of Tensors"
   ]
  },
  {
   "cell_type": "code",
   "execution_count": 6,
   "metadata": {
    "colab": {
     "base_uri": "https://localhost:8080/"
    },
    "id": "gsjIHahnod8U",
    "outputId": "7a80a579-9108-45af-8770-5201e54db9ec"
   },
   "outputs": [
    {
     "data": {
      "text/plain": [
       "TensorShape([2, 2, 2, 3])"
      ]
     },
     "execution_count": 6,
     "metadata": {},
     "output_type": "execute_result"
    }
   ],
   "source": [
    "tensor_with_rank2.shape"
   ]
  },
  {
   "cell_type": "markdown",
   "metadata": {
    "id": "y87wqviPunwE"
   },
   "source": [
    "Change Shape of a Tensor"
   ]
  },
  {
   "cell_type": "code",
   "execution_count": 7,
   "metadata": {
    "colab": {
     "base_uri": "https://localhost:8080/"
    },
    "id": "HHf57uv9qFDa",
    "outputId": "bb01b16a-9f4b-42d6-ff99-a8da5b17b326"
   },
   "outputs": [
    {
     "name": "stdout",
     "output_type": "stream",
     "text": [
      "tf.Tensor(\n",
      "[[[1. 1. 1.]\n",
      "  [1. 1. 1.]]], shape=(1, 2, 3), dtype=float32)\n",
      "tf.Tensor(\n",
      "[[[1.]\n",
      "  [1.]]\n",
      "\n",
      " [[1.]\n",
      "  [1.]]\n",
      "\n",
      " [[1.]\n",
      "  [1.]]], shape=(3, 2, 1), dtype=float32)\n"
     ]
    }
   ],
   "source": [
    "allones1 = tf.ones([1,2,3])\n",
    "allones2 = tf.reshape(allones1,[3,2,1])\n",
    "print(allones1)\n",
    "print(allones2)"
   ]
  },
  {
   "cell_type": "markdown",
   "metadata": {
    "id": "_oD0mevSx9wE"
   },
   "source": [
    "TF Sessions"
   ]
  },
  {
   "cell_type": "markdown",
   "metadata": {},
   "source": [
    "#### Below code is used when we want the value from a tensor having an object. Note I have not created an object in tensor so it wont run"
   ]
  },
  {
   "cell_type": "code",
   "execution_count": null,
   "metadata": {
    "id": "9nuN6RSGwYWd"
   },
   "outputs": [],
   "source": [
    "with tf.compat.v1.Session() as sess:\n",
    "   tensorname.eval()"
   ]
  }
 ],
 "metadata": {
  "colab": {
   "name": "TensorFlow-Introduction.ipynb",
   "provenance": []
  },
  "kernelspec": {
   "display_name": "Python 3",
   "language": "python",
   "name": "python3"
  },
  "language_info": {
   "codemirror_mode": {
    "name": "ipython",
    "version": 3
   },
   "file_extension": ".py",
   "mimetype": "text/x-python",
   "name": "python",
   "nbconvert_exporter": "python",
   "pygments_lexer": "ipython3",
   "version": "3.7.6"
  }
 },
 "nbformat": 4,
 "nbformat_minor": 1
}
